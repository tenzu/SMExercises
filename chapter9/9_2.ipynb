{
 "cells": [
  {
   "cell_type": "markdown",
   "metadata": {},
   "source": [
    "# 9.2题求解过程"
   ]
  },
  {
   "cell_type": "code",
   "execution_count": 1,
   "metadata": {},
   "outputs": [],
   "source": [
    "import chapter9module as c9m\n",
    "l = 0.8\n",
    "t = 0.02\n",
    "q = 5 / (0.01**2)\n",
    "sigma_0 = 80e6\n",
    "T = sigma_0 * 1 * t"
   ]
  },
  {
   "cell_type": "markdown",
   "metadata": {},
   "source": [
    "1. 校验是否需要考虑弯曲引起的中面力"
   ]
  },
  {
   "cell_type": "code",
   "execution_count": 7,
   "metadata": {},
   "outputs": [
    {
     "name": "stdout",
     "output_type": "stream",
     "text": [
      "板条梁仅受横荷重时的最大挠度 w_max 为 1.82 mm\n",
      "w_max/t = 0.0910，小于1/5\n",
      "因此不需要考虑板条梁弯曲引起的中面力。\n"
     ]
    }
   ],
   "source": [
    "w_max = c9m.midSpanDeflection2(q, l, c9m.E1(), t)\n",
    "print(f\"板条梁仅受横荷重时的最大挠度 w_max 为 {w_max * 1e3 :.2f} mm\")\n",
    "print(f\"w_max/t = {w_max/t :.4f}，小于1/5\")\n",
    "print(f\"因此不需要考虑板条梁弯曲引起的中面力。\")"
   ]
  },
  {
   "cell_type": "markdown",
   "metadata": {},
   "source": [
    "2. 由外加中面力 T 计算系数 u"
   ]
  },
  {
   "cell_type": "code",
   "execution_count": 12,
   "metadata": {},
   "outputs": [
    {
     "name": "stdout",
     "output_type": "stream",
     "text": [
      "u = 1.290\n"
     ]
    }
   ],
   "source": [
    "u = c9m.u(l, T, c9m.cylindricalStiffness(t))\n",
    "print(f\"u = {u :.3f}\")"
   ]
  },
  {
   "cell_type": "markdown",
   "metadata": {},
   "source": [
    "3. 计算复杂弯曲状态下板条梁的跨中挠度"
   ]
  },
  {
   "cell_type": "code",
   "execution_count": 13,
   "metadata": {},
   "outputs": [
    {
     "name": "stdout",
     "output_type": "stream",
     "text": [
      "板条梁复杂弯曲时的跨中挠度 w_max_complex 为 1.085 mm\n"
     ]
    }
   ],
   "source": [
    "w_max_complex = w_max * c9m.f0(u)\n",
    "print(f\"板条梁复杂弯曲时的跨中挠度 w_max_complex 为 {w_max_complex * 1e3 :.3f} mm\")"
   ]
  },
  {
   "cell_type": "markdown",
   "metadata": {},
   "source": [
    "4. 计算弯矩及应力"
   ]
  },
  {
   "cell_type": "code",
   "execution_count": 10,
   "metadata": {},
   "outputs": [
    {
     "name": "stdout",
     "output_type": "stream",
     "text": [
      "A点弯矩 M_A为 -2347.2103 N*m\n",
      "A点上表面正应力 sigma_A_top 为 44.792 MPa (拉应力)\n",
      "A点下表面正应力 sigma_A_bottom 为 115.208 MPa (拉应力)\n"
     ]
    }
   ],
   "source": [
    "M_A = c9m.bendingMomentMidSpan2(q, l) * c9m.phai0(u)\n",
    "print(f\"A点弯矩 M_A为 {M_A :.4f} N*m\")\n",
    "sigma_A_top = sigma_0 - abs(c9m.bendingNormalStress(M_A, t))\n",
    "print(f\"A点上表面正应力 sigma_A_top 为 {sigma_A_top * 1e-6 :.3f} MPa (拉应力)\")\n",
    "sigma_A_bottom = sigma_0 + abs(c9m.bendingNormalStress(M_A, t))\n",
    "print(f\"A点下表面正应力 sigma_A_bottom 为 {sigma_A_bottom * 1e-6 :.3f} MPa (拉应力)\")"
   ]
  },
  {
   "cell_type": "markdown",
   "metadata": {},
   "source": [
    "# 求解完毕！"
   ]
  }
 ],
 "metadata": {
  "kernelspec": {
   "display_name": "base",
   "language": "python",
   "name": "python3"
  },
  "language_info": {
   "codemirror_mode": {
    "name": "ipython",
    "version": 3
   },
   "file_extension": ".py",
   "mimetype": "text/x-python",
   "name": "python",
   "nbconvert_exporter": "python",
   "pygments_lexer": "ipython3",
   "version": "3.12.2"
  }
 },
 "nbformat": 4,
 "nbformat_minor": 2
}
