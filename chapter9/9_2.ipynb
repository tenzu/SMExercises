{
 "cells": [
  {
   "cell_type": "markdown",
   "metadata": {},
   "source": [
    "# 9.2题求解过程"
   ]
  },
  {
   "cell_type": "code",
   "execution_count": null,
   "metadata": {},
   "outputs": [],
   "source": [
    "import chapter_9_module as c9m\n",
    "\n",
    "l = 0.8\n",
    "t = 0.02\n",
    "q = 5 / (0.01**2)\n",
    "sigma_0 = 80e6\n",
    "T = sigma_0 * 1 * t"
   ]
  },
  {
   "cell_type": "markdown",
   "metadata": {},
   "source": [
    "1. 校验是否需要考虑弯曲引起的中面力\n",
    "$$ w_{mid} = \\frac{5}{384} \\frac{ql^4}{D}, \\quad T = \\sigma_0 \\times 1 \\times t $$"
   ]
  },
  {
   "cell_type": "code",
   "execution_count": null,
   "metadata": {},
   "outputs": [],
   "source": [
    "w_mid = c9m.midSpanDeflection2(q, l, c9m.E1(), t)\n",
    "print(f\"板条梁仅受横荷重时的最大挠度 w_max 为 {w_mid * 1e3 :.2f} mm\")\n",
    "print(f\"w_mid/t = {w_mid/t :.4f}，小于1/5\")\n",
    "print(f\"因此不需要考虑板条梁弯曲引起的中面力。\")"
   ]
  },
  {
   "cell_type": "markdown",
   "metadata": {},
   "source": [
    "2. 由外加中面力 T 计算系数 u\n",
    "$$ u = \\frac{l}{2} \\sqrt \\frac{T}{D} $$"
   ]
  },
  {
   "cell_type": "code",
   "execution_count": null,
   "metadata": {},
   "outputs": [],
   "source": [
    "u = c9m.u(l, T, c9m.cylindricalStiffness(t))\n",
    "print(f\"u = {u :.3f}\")"
   ]
  },
  {
   "cell_type": "markdown",
   "metadata": {},
   "source": [
    "3. 计算复杂弯曲状态下板条梁的跨中挠度\n",
    "$$ w_{mid}' = w_A f_0(u) $$"
   ]
  },
  {
   "cell_type": "code",
   "execution_count": null,
   "metadata": {},
   "outputs": [],
   "source": [
    "w_mid_complex = w_mid * c9m.f0(u)\n",
    "print(f\"板条梁复杂弯曲时的跨中挠度 w_A_complex 为 {w_mid_complex * 1e3 :.3f} mm\")"
   ]
  },
  {
   "cell_type": "markdown",
   "metadata": {},
   "source": [
    "4. 计算弯矩及应力\n",
    "$$ M_{mid}' = \\frac{ql^2}{8} \\varphi_0(u), \\quad \\sigma_{A上} = \\sigma_0 - \\frac{6M_{mid}'}{t^2}, \\quad \\sigma_{A下} = \\sigma_0 + \\frac{6M_{mid}'}{t^2} $$"
   ]
  },
  {
   "cell_type": "code",
   "execution_count": null,
   "metadata": {},
   "outputs": [],
   "source": [
    "M_mid_complex = c9m.bendingMomentMidSpan2(q, l) * c9m.phai0(u)\n",
    "print(f\"A点弯矩 M_mid_complex为 {M_mid_complex :.4f} N*m\")\n",
    "sigma_A_top = sigma_0 - abs(c9m.bendingNormalStress(M_mid_complex, t))\n",
    "print(f\"A点上表面正应力 sigma_A_top 为 {sigma_A_top * 1e-6 :.3f} MPa (拉应力)\")\n",
    "sigma_A_bottom = sigma_0 + abs(c9m.bendingNormalStress(M_mid_complex, t))\n",
    "print(f\"A点下表面正应力 sigma_A_bottom 为 {sigma_A_bottom * 1e-6 :.3f} MPa (拉应力)\")"
   ]
  },
  {
   "cell_type": "markdown",
   "metadata": {},
   "source": [
    "# 求解完毕！"
   ]
  }
 ],
 "metadata": {
  "kernelspec": {
   "display_name": "base",
   "language": "python",
   "name": "python3"
  },
  "language_info": {
   "codemirror_mode": {
    "name": "ipython",
    "version": 3
   },
   "file_extension": ".py",
   "mimetype": "text/x-python",
   "name": "python",
   "nbconvert_exporter": "python",
   "pygments_lexer": "ipython3",
   "version": "3.12.9"
  }
 },
 "nbformat": 4,
 "nbformat_minor": 2
}
