{
 "cells": [
  {
   "cell_type": "markdown",
   "metadata": {},
   "source": [
    "# 9.2题求解过程"
   ]
  },
  {
   "cell_type": "code",
   "execution_count": 1,
   "metadata": {},
   "outputs": [],
   "source": [
    "import chapter9module as c9m\n",
    "l = 0.8\n",
    "t = 0.02\n",
    "q = 5 / (0.01**2)\n",
    "sigma_0 = 80e6\n",
    "T = sigma_0 * 1 * t"
   ]
  },
  {
   "cell_type": "markdown",
   "metadata": {},
   "source": [
    "校验是否需要考虑弯曲引起的中面力"
   ]
  },
  {
   "cell_type": "code",
   "execution_count": 3,
   "metadata": {},
   "outputs": [
    {
     "name": "stdout",
     "output_type": "stream",
     "text": [
      "板条梁仅受横荷重时的最大挠度 w_max 为 1.82 mm\n",
      "w_max/t = 0.0910，小于1/5\n",
      "固不需要考虑板条梁弯曲引起的中面力。\n"
     ]
    }
   ],
   "source": [
    "w_max = c9m.midSpanDeflection2(q, l, c9m.E1(), t)\n",
    "print(f\"板条梁仅受横荷重时的最大挠度 w_max 为 {w_max * 1e3 :.2f} mm\")\n",
    "print(f\"w_max/t = {w_max/t :.4f}，小于1/5\")\n",
    "print(f\"固不需要考虑板条梁弯曲引起的中面力。\")"
   ]
  }
 ],
 "metadata": {
  "kernelspec": {
   "display_name": "base",
   "language": "python",
   "name": "python3"
  },
  "language_info": {
   "codemirror_mode": {
    "name": "ipython",
    "version": 3
   },
   "file_extension": ".py",
   "mimetype": "text/x-python",
   "name": "python",
   "nbconvert_exporter": "python",
   "pygments_lexer": "ipython3",
   "version": "3.12.2"
  }
 },
 "nbformat": 4,
 "nbformat_minor": 2
}
