{
 "cells": [
  {
   "cell_type": "markdown",
   "metadata": {},
   "source": [
    "# 9.1题求解过程"
   ]
  },
  {
   "cell_type": "code",
   "execution_count": 10,
   "metadata": {},
   "outputs": [],
   "source": [
    "import chapter9module as c9m"
   ]
  },
  {
   "cell_type": "code",
   "execution_count": 11,
   "metadata": {},
   "outputs": [],
   "source": [
    "a = 2\n",
    "b = 0.6\n",
    "t = 0.012\n",
    "q = 6.5 / 0.01 / 0.01\n",
    "sigma_0 = 18.8e6"
   ]
  },
  {
   "cell_type": "markdown",
   "metadata": {},
   "source": [
    "## 求解（a）：\n",
    "1. 计算 A 点弯矩和应力"
   ]
  },
  {
   "cell_type": "code",
   "execution_count": 12,
   "metadata": {},
   "outputs": [
    {
     "name": "stdout",
     "output_type": "stream",
     "text": [
      "A点弯矩 M_A 为 975.00 N*m\n",
      "A点由弯曲引起的正应力 sigma_A 为 40.62 MPa\n"
     ]
    }
   ],
   "source": [
    "M_A = c9m.bendingMomentFixedEnd1(q, b)\n",
    "print(f\"A点弯矩 M_A 为 {M_A :.2f} N*m\")\n",
    "sigma_A = c9m.bendingNormalStress(M_A, t)\n",
    "print(f\"A点由弯曲引起的正应力 sigma_A 为 {sigma_A*1e-6 :.2f} MPa\")"
   ]
  },
  {
   "cell_type": "markdown",
   "metadata": {},
   "source": [
    "2. 计算 B 点弯矩和应力"
   ]
  },
  {
   "cell_type": "code",
   "execution_count": 13,
   "metadata": {},
   "outputs": [
    {
     "name": "stdout",
     "output_type": "stream",
     "text": [
      "B点弯矩 M_B 为 1950.00 N*m\n",
      "B点由弯曲引起的正应力 sigma_B 为 81.25 MPa\n"
     ]
    }
   ],
   "source": [
    "M_B = c9m.bendingMomentFixedEnd2(q, b)\n",
    "print(f\"B点弯矩 M_B 为 {M_B :.2f} N*m\")\n",
    "sigma_B = c9m.bendingNormalStress(M_B, t)\n",
    "print(f\"B点由弯曲引起的正应力 sigma_B 为 {sigma_B*1e-6 :.2f} MPa\")"
   ]
  },
  {
   "cell_type": "markdown",
   "metadata": {},
   "source": [
    "3. 计算 A 点挠度"
   ]
  },
  {
   "cell_type": "code",
   "execution_count": 14,
   "metadata": {},
   "outputs": [
    {
     "name": "stdout",
     "output_type": "stream",
     "text": [
      "A点挠度 w_A 为 0.693 mm\n"
     ]
    }
   ],
   "source": [
    "w_A = c9m.midSpanDeflection1(q, b, c9m.E1(), t)\n",
    "print(f\"A点挠度 w_A 为 {w_A*1e3 :.3f} mm\")"
   ]
  },
  {
   "cell_type": "markdown",
   "metadata": {},
   "source": [
    "## 求解（b）：\n",
    "1. 计算板条梁中面拉力"
   ]
  },
  {
   "cell_type": "code",
   "execution_count": 15,
   "metadata": {},
   "outputs": [
    {
     "name": "stdout",
     "output_type": "stream",
     "text": [
      "板条梁中面拉力 T 为 225600.00 N\n"
     ]
    }
   ],
   "source": [
    "T = 18.8e6 * 1 * t\n",
    "print(f\"板条梁中面拉力 T 为 {T :.2f} N\")"
   ]
  },
  {
   "cell_type": "markdown",
   "metadata": {},
   "source": [
    "2. 计算系数 u"
   ]
  },
  {
   "cell_type": "code",
   "execution_count": 16,
   "metadata": {},
   "outputs": [
    {
     "name": "stdout",
     "output_type": "stream",
     "text": [
      "u = 0.782\n"
     ]
    }
   ],
   "source": [
    "u = c9m.u(b, T, c9m.cylindricalStiffness(t))\n",
    "print(f\"u = {u :.3f}\")"
   ]
  },
  {
   "cell_type": "markdown",
   "metadata": {},
   "source": [
    "3. 计算 A 点辅助函数、弯矩、正应力"
   ]
  },
  {
   "cell_type": "code",
   "execution_count": 17,
   "metadata": {},
   "outputs": [
    {
     "name": "stdout",
     "output_type": "stream",
     "text": [
      "phai1(u) = 0.933\n",
      "A点由复杂弯曲引起的弯矩 M_A_complex 为 909.71 N*m\n",
      "A点由复杂弯曲引起的正应力 sigma_A_complex 为 56.70 MPa\n",
      "f1(u) = 0.942\n",
      "A点复杂弯曲挠度 w_A_complex 为 0.653 mm\n"
     ]
    }
   ],
   "source": [
    "print(f\"phai1(u) = {c9m.phai1(u) :.3f}\")\n",
    "M_A_complex = M_A * c9m.phai1(u)\n",
    "print(f\"A点由复杂弯曲引起的弯矩 M_A_complex 为 {M_A_complex :.2f} N*m\")\n",
    "sigma_A_complex = c9m.bendingNormalStress(M_A_complex, t)\n",
    "print(f\"A点由复杂弯曲引起的正应力 sigma_A_complex 为 {(sigma_0+sigma_A_complex)*1e-6 :.2f} MPa\")\n",
    "print(f\"f1(u) = {c9m.f1(u) :.3f}\")\n",
    "w_A_complex = w_A * c9m.f1(u)\n",
    "print(f\"A点复杂弯曲挠度 w_A_complex 为 {w_A_complex*1e3 :.3f} mm\")"
   ]
  },
  {
   "cell_type": "markdown",
   "metadata": {},
   "source": [
    "4. 计算 B 点弯矩和应力"
   ]
  },
  {
   "cell_type": "code",
   "execution_count": 18,
   "metadata": {},
   "outputs": [
    {
     "name": "stdout",
     "output_type": "stream",
     "text": [
      "X(u) = 0.962\n",
      "B点由复杂弯曲引起的弯矩 M_B_complex 为 1874.93 N*m\n",
      "B点由复杂弯曲引起的正应力 sigma_B_complex 为 96.92 MPa\n"
     ]
    }
   ],
   "source": [
    "print(f\"X(u) = {c9m.X(u) :.3f}\")\n",
    "M_B_complex = c9m.bendingMomentFixedEnd2(q, b) * c9m.X(u)\n",
    "print(f\"B点由复杂弯曲引起的弯矩 M_B_complex 为 {M_B_complex :.2f} N*m\")\n",
    "sigma_B_complex = c9m.bendingNormalStress(M_B_complex, t)\n",
    "print(f\"B点由复杂弯曲引起的正应力 sigma_B_complex 为 {(sigma_0+sigma_B_complex)*1e-6 :.2f} MPa\")"
   ]
  }
 ],
 "metadata": {
  "kernelspec": {
   "display_name": "base",
   "language": "python",
   "name": "python3"
  },
  "language_info": {
   "codemirror_mode": {
    "name": "ipython",
    "version": 3
   },
   "file_extension": ".py",
   "mimetype": "text/x-python",
   "name": "python",
   "nbconvert_exporter": "python",
   "pygments_lexer": "ipython3",
   "version": "3.12.2"
  }
 },
 "nbformat": 4,
 "nbformat_minor": 2
}
