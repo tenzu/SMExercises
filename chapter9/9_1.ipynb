{
 "cells": [
  {
   "cell_type": "markdown",
   "metadata": {},
   "source": [
    "# 9.1题求解过程"
   ]
  },
  {
   "cell_type": "code",
   "execution_count": 1,
   "metadata": {},
   "outputs": [],
   "source": [
    "import chapter9module as c9m"
   ]
  },
  {
   "cell_type": "code",
   "execution_count": 2,
   "metadata": {},
   "outputs": [],
   "source": [
    "# 输入变量的值\n",
    "a = 2\n",
    "b = 0.6\n",
    "t = 0.012\n",
    "q = 6.5 / 0.01 / 0.01\n",
    "sigma_0 = 18.8e6"
   ]
  },
  {
   "cell_type": "markdown",
   "metadata": {},
   "source": [
    "求解（a）：\n",
    "1. 计算A点弯矩："
   ]
  },
  {
   "cell_type": "code",
   "execution_count": 7,
   "metadata": {},
   "outputs": [
    {
     "name": "stdout",
     "output_type": "stream",
     "text": [
      "A点弯矩 M_A 为 975.00 N*m\n",
      "\n"
     ]
    }
   ],
   "source": [
    "M_A = c9m.bendingMomentFixedEnd1(q, b)\n",
    "print(f\"A点弯矩 M_A 为 {M_A :.2f} N*m\\n\")"
   ]
  },
  {
   "cell_type": "code",
   "execution_count": 9,
   "metadata": {},
   "outputs": [
    {
     "name": "stdout",
     "output_type": "stream",
     "text": [
      "A点由弯曲引起的正应力 sigma_A 为 40.62 MPa\n",
      "\n"
     ]
    }
   ],
   "source": [
    "sigma_A = c9m.bendingNormalStress(M_A, t)\n",
    "print(f\"A点由弯曲引起的正应力 sigma_A 为 {sigma_A*1e-6 :.2f} MPa\\n\")"
   ]
  }
 ],
 "metadata": {
  "kernelspec": {
   "display_name": "base",
   "language": "python",
   "name": "python3"
  },
  "language_info": {
   "codemirror_mode": {
    "name": "ipython",
    "version": 3
   },
   "file_extension": ".py",
   "mimetype": "text/x-python",
   "name": "python",
   "nbconvert_exporter": "python",
   "pygments_lexer": "ipython3",
   "version": "3.12.2"
  }
 },
 "nbformat": 4,
 "nbformat_minor": 2
}
