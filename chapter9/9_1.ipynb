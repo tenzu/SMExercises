{
 "cells": [
  {
   "cell_type": "markdown",
   "metadata": {},
   "source": [
    "# 9.1题求解过程"
   ]
  },
  {
   "cell_type": "code",
   "execution_count": null,
   "metadata": {},
   "outputs": [],
   "source": [
    "import chapter_9_module as c9m\n",
    "\n",
    "a = 2\n",
    "b = 0.6\n",
    "t = 0.012\n",
    "q = 6.5 / 0.01 / 0.01\n",
    "sigma_0 = 18.8e6"
   ]
  },
  {
   "cell_type": "markdown",
   "metadata": {},
   "source": [
    "## 先验证是否可使用板条梁模型（过程略）"
   ]
  },
  {
   "cell_type": "markdown",
   "metadata": {},
   "source": [
    "## 求解（a）：\n",
    "1. 计算 A 点弯矩和应力\n",
    "$$M_A = \\frac{q b^2}{24}$$\n",
    "$$\\sigma_A = \\frac{6 M}{t^2}$$\n"
   ]
  },
  {
   "cell_type": "code",
   "execution_count": null,
   "metadata": {},
   "outputs": [],
   "source": [
    "M_A = c9m.bendingMomentFixedEnd1(q, b)\n",
    "print(f\"A点弯矩 M_A 为 {M_A :.2f} N*m\")\n",
    "sigma_A = c9m.bendingNormalStress(M_A, t)\n",
    "print(f\"A点由弯曲引起的正应力 sigma_A 为 {sigma_A*1e-6 :.2f} MPa\")"
   ]
  },
  {
   "cell_type": "markdown",
   "metadata": {},
   "source": [
    "2. 计算 B 点弯矩和应力  \n",
    "$$M_B = \\frac{q b^2}{12}$$\n",
    "$$\\sigma_B = \\frac{6 M_B}{t^2}$$"
   ]
  },
  {
   "cell_type": "code",
   "execution_count": null,
   "metadata": {},
   "outputs": [],
   "source": [
    "M_B = c9m.bendingMomentFixedEnd2(q, b)\n",
    "print(f\"B点弯矩 M_B 为 {M_B :.2f} N*m\")\n",
    "sigma_B = c9m.bendingNormalStress(M_B, t)\n",
    "print(f\"B点由弯曲引起的正应力 sigma_B 为 {sigma_B*1e-6 :.2f} MPa\")"
   ]
  },
  {
   "cell_type": "markdown",
   "metadata": {},
   "source": [
    "3. 计算 A 点挠度  \n",
    "$$w_A = \\frac{q b^4}{384 E_1 I} = \\frac{q b^4}{384 D}$$"
   ]
  },
  {
   "cell_type": "code",
   "execution_count": null,
   "metadata": {},
   "outputs": [],
   "source": [
    "w_A = c9m.midSpanDeflection1(q, b, c9m.E1(), t)\n",
    "print(f\"A点挠度 w_A 为 {w_A*1e3 :.3f} mm\")"
   ]
  },
  {
   "cell_type": "markdown",
   "metadata": {},
   "source": [
    "## 求解（b）：\n",
    "注：$w_{A} < \\frac{t}{5}$，因此为小挠度问题\n",
    "1. 计算板条梁中面拉力  \n",
    "$$T = \\sigma_0 \\times 1 \\times t$$"
   ]
  },
  {
   "cell_type": "code",
   "execution_count": null,
   "metadata": {},
   "outputs": [],
   "source": [
    "T = 18.8e6 * 1 * t\n",
    "print(f\"板条梁中面拉力 T 为 {T :.2f} N\")"
   ]
  },
  {
   "cell_type": "markdown",
   "metadata": {},
   "source": [
    "2. 计算系数 u  \n",
    "$$u = \\frac{l}{2} \\sqrt \\frac{\\sigma_0 t}{D} = \\frac{l}{2 t} \\sqrt \\frac{12(1-\\mu^2) \\sigma_0}{E}$$"
   ]
  },
  {
   "cell_type": "code",
   "execution_count": null,
   "metadata": {},
   "outputs": [],
   "source": [
    "u = c9m.u(b, T, c9m.cylindricalStiffness(t))\n",
    "print(f\"u = {u :.3f}\")"
   ]
  },
  {
   "cell_type": "markdown",
   "metadata": {},
   "source": [
    "3. 计算 A 点辅助函数、弯矩、正应力  \n",
    "$$M{_A}' = M_A \\phi_1 (u)$$\n",
    "$$\\phi_1 (u) = \\frac{6}{u^2} (1 - \\frac{u}{sinh(u)})$$\n",
    "$$\\sigma{_{A,b}} = \\frac{6M{{_A}'}}{t^2}$$\n",
    "$$\\sigma{_{A,max}} = \\sigma_0 + \\sigma{_{A,b}}$$\n",
    "$$w_{A}' = w_Af_1(u)$$\n",
    "$$f_1(u) = \\frac{24}{u^3}(\\frac{u}{2} - tanh(\\frac{u}{2}))$$"
   ]
  },
  {
   "cell_type": "code",
   "execution_count": null,
   "metadata": {},
   "outputs": [],
   "source": [
    "print(f\"phai1(u) = {c9m.phai1(u) :.3f}\")\n",
    "M_A_complex = M_A * c9m.phai1(u)\n",
    "print(f\"A点由复杂弯曲引起的弯矩 M_A_complex 为 {M_A_complex :.2f} N*m\")\n",
    "sigma_A_complex = c9m.bendingNormalStress(M_A_complex, t)\n",
    "print(\n",
    "    f\"A点由复杂弯曲引起的正应力 sigma_A_complex 为 {(sigma_0+sigma_A_complex)*1e-6 :.2f} MPa\"\n",
    ")\n",
    "print(f\"f1(u) = {c9m.f1(u) :.3f}\")\n",
    "w_A_complex = w_A * c9m.f1(u)\n",
    "print(f\"A点复杂弯曲挠度 w_A_complex 为 {w_A_complex*1e3 :.3f} mm\")"
   ]
  },
  {
   "cell_type": "markdown",
   "metadata": {},
   "source": [
    "4. 计算 B 点弯矩和应力\n",
    "$$M_{B}' = M_B \\chi(u)$$\n",
    "$$\\chi(u) = \\frac{3}{u^2} (\\frac{u}{tanh(u)}-1)$$\n",
    "$$\\sigma{_{B,b}} = \\frac{6M_{B}'}{t^2}$$\n",
    "$$\\sigma{_{B,max}} = \\sigma_0 + \\sigma{_{B,b}}$$"
   ]
  },
  {
   "cell_type": "code",
   "execution_count": null,
   "metadata": {},
   "outputs": [],
   "source": [
    "print(f\"X(u) = {c9m.X(u) :.3f}\")\n",
    "M_B_complex = c9m.bendingMomentFixedEnd2(q, b) * c9m.X(u)\n",
    "print(f\"B点由复杂弯曲引起的弯矩 M_B_complex 为 {M_B_complex :.2f} N*m\")\n",
    "sigma_B_complex = c9m.bendingNormalStress(M_B_complex, t)\n",
    "print(\n",
    "    f\"B点由复杂弯曲引起的正应力 sigma_B_complex 为 {(sigma_0+sigma_B_complex)*1e-6 :.2f} MPa\"\n",
    ")"
   ]
  },
  {
   "cell_type": "markdown",
   "metadata": {},
   "source": [
    "# 求解完毕！"
   ]
  }
 ],
 "metadata": {
  "kernelspec": {
   "display_name": "base",
   "language": "python",
   "name": "python3"
  },
  "language_info": {
   "codemirror_mode": {
    "name": "ipython",
    "version": 3
   },
   "file_extension": ".py",
   "mimetype": "text/x-python",
   "name": "python",
   "nbconvert_exporter": "python",
   "pygments_lexer": "ipython3",
   "version": "3.12.2"
  }
 },
 "nbformat": 4,
 "nbformat_minor": 2
}
