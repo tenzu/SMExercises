{
 "cells": [
  {
   "cell_type": "markdown",
   "metadata": {},
   "source": [
    "# 9.3题求解过程"
   ]
  },
  {
   "cell_type": "code",
   "execution_count": null,
   "metadata": {},
   "outputs": [],
   "source": [
    "import chapter_9_module as c9m\n",
    "\n",
    "a = 0.6\n",
    "b = 2\n",
    "t = 0.014\n",
    "q = 13 / 0.01**2\n",
    "TStar = 4750 / 0.01\n",
    "# 板条梁压应力\n",
    "sigma_0Star = TStar / (1 * t)"
   ]
  },
  {
   "cell_type": "markdown",
   "metadata": {},
   "source": [
    "## 求解（a）：\n",
    "1. 计算系数 u*"
   ]
  },
  {
   "cell_type": "code",
   "execution_count": null,
   "metadata": {},
   "outputs": [],
   "source": [
    "uStar = c9m.uStar(a, TStar, c9m.cylindricalStiffness(t))\n",
    "print(f\"u* = {uStar:.4f}\")"
   ]
  },
  {
   "cell_type": "markdown",
   "metadata": {},
   "source": [
    "2. 计算 B 点挠度"
   ]
  },
  {
   "cell_type": "code",
   "execution_count": null,
   "metadata": {},
   "outputs": [],
   "source": [
    "w_B = c9m.midSpanDeflection2(q / 2, a, c9m.E1(2e11, 0.3), t) * c9m.f0Star(uStar)\n",
    "print(f\"B点挠度 w_B 为 {w_B*1e3:.2f} mm\")"
   ]
  },
  {
   "cell_type": "markdown",
   "metadata": {},
   "source": [
    "## 求解（b）：\n",
    "1. 计算 B 点弯矩和正应力"
   ]
  },
  {
   "cell_type": "code",
   "execution_count": null,
   "metadata": {},
   "outputs": [],
   "source": [
    "M_B_complex = c9m.bendingMomentMidSpan2(q / 2, a) * c9m.phai0Star(uStar)\n",
    "print(f\"B点弯矩 M_B 为 {M_B_complex:.4f} N*m\")\n",
    "sigma_B = c9m.bendingNormalStress(M_B_complex, t)\n",
    "print(f\"B点弯曲正应力 sigma_B 为 {sigma_B*1e-6:.3f} MPa (拉为正)\")"
   ]
  },
  {
   "cell_type": "markdown",
   "metadata": {},
   "source": [
    "2. 计算上、下表面应力"
   ]
  },
  {
   "cell_type": "code",
   "execution_count": null,
   "metadata": {},
   "outputs": [],
   "source": [
    "sigma_B_top = -sigma_0Star + sigma_B\n",
    "print(f\"B点上表面应力 sigma_B_top 为 {sigma_B_top*1e-6:.3f} MPa (压应力)\")\n",
    "sigma_B_bottom = -sigma_0Star - sigma_B\n",
    "print(f\"B点下表面应力 sigma_B_bottom 为 {sigma_B_bottom*1e-6:.3f} MPa (拉应力)\")"
   ]
  },
  {
   "cell_type": "markdown",
   "metadata": {},
   "source": [
    "# 求解完毕！"
   ]
  }
 ],
 "metadata": {
  "kernelspec": {
   "display_name": "base",
   "language": "python",
   "name": "python3"
  },
  "language_info": {
   "codemirror_mode": {
    "name": "ipython",
    "version": 3
   },
   "file_extension": ".py",
   "mimetype": "text/x-python",
   "name": "python",
   "nbconvert_exporter": "python",
   "pygments_lexer": "ipython3",
   "version": "3.12.9"
  }
 },
 "nbformat": 4,
 "nbformat_minor": 2
}
