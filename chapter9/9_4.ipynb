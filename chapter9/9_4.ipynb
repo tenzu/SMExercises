{
 "cells": [
  {
   "cell_type": "markdown",
   "metadata": {},
   "source": [
    "# 9.4题求解过程"
   ]
  },
  {
   "cell_type": "code",
   "execution_count": null,
   "metadata": {},
   "outputs": [],
   "source": [
    "import chapter_9_module as c9m\n",
    "\n",
    "t = 0.6 * 1e-2\n",
    "l = 60 * 1e-2\n",
    "q = 10 / (1e-2) ** 2\n",
    "K = 0.5"
   ]
  },
  {
   "cell_type": "markdown",
   "metadata": {},
   "source": [
    "1. 校验是否需要考虑弯曲引起的中面力\n",
    "$$w = \\frac{5}{384} \\frac{ql^4}{D}, \\quad U = \\left[\\frac{E}{(1-\\mu)^2q} \\right]^2 \\left(\\frac{t}{l} \\right)^8 \\frac{1}{K}$$"
   ]
  },
  {
   "cell_type": "code",
   "execution_count": null,
   "metadata": {},
   "outputs": [],
   "source": [
    "w_max = c9m.midSpanDeflection2(q, l, c9m.E1(), t)\n",
    "print(f\"板条梁仅受横荷重时的最大挠度 w_max 为 {w_max*1e3:.2f} mm\")\n",
    "print(f\"w_max/t = {w_max/t :.4f}，远大于1/5\")\n",
    "print(f\"固需要考虑板条梁弯曲引起的中面力，且应采用大挠度弯曲理论。\")"
   ]
  },
  {
   "cell_type": "markdown",
   "metadata": {},
   "source": [
    "2. 计算参数 U 和 u"
   ]
  },
  {
   "cell_type": "code",
   "execution_count": null,
   "metadata": {},
   "outputs": [],
   "source": [
    "U = c9m.U(t, q, l, K)\n",
    "print(f\"U = {U:.6f}\")\n",
    "print(f\"查图前需先计算lg10^4*sqrt(U)\")\n",
    "UU = c9m.log10(10**4 * c9m.sqrt(U))\n",
    "print(f\"lg10^4*sqrt(U) = {UU:.2f}\")\n",
    "u = 3.01\n",
    "print(f\"查图得 u = {u:.2f}\")"
   ]
  },
  {
   "cell_type": "markdown",
   "metadata": {},
   "source": [
    "3. 计算板条梁中面应力"
   ]
  },
  {
   "cell_type": "code",
   "execution_count": null,
   "metadata": {},
   "outputs": [],
   "source": [
    "T = 4 * u**2 * c9m.cylindricalStiffness(t) / l**2\n",
    "print(f\"根据 u 计算板条梁中面力 T 为 {T:.4f} N\")\n",
    "sigma_0 = T / 1 / t\n",
    "print(f\"对应的单跨梁欧拉应力 sigma 为 {T/1/t*1e-6:.2f} MPa\")"
   ]
  },
  {
   "cell_type": "markdown",
   "metadata": {},
   "source": [
    "4. 计算板条梁最大挠度"
   ]
  },
  {
   "cell_type": "code",
   "execution_count": null,
   "metadata": {},
   "outputs": [],
   "source": [
    "w_max_complex = c9m.midSpanDeflection2(q, l, c9m.E1(), t) * c9m.f0(u)\n",
    "print(f\"板条梁最大挠度 w_max_complex 为 {w_max_complex*1e3:.2f} mm\")"
   ]
  },
  {
   "cell_type": "markdown",
   "metadata": {},
   "source": [
    "5. 计算板条梁最大应力"
   ]
  },
  {
   "cell_type": "code",
   "execution_count": null,
   "metadata": {},
   "outputs": [],
   "source": [
    "M_max = c9m.bendingMomentMidSpan2(q, l) * c9m.phai0(u)\n",
    "print(f\"板条梁最大弯矩 M_max 为 {M_max:.3f} N*m\")\n",
    "sigma_b_max = abs(c9m.bendingNormalStress(M_max, t))\n",
    "print(f\"板条梁最大弯曲正应力 sigma_b_max 为 {sigma_b_max*1e-6:.2f} MPa (拉应力)\")\n",
    "sigma_max = sigma_0 + sigma_b_max\n",
    "print(f\"板条梁最大应力 sigma_max 为 {sigma_max*1e-6:.2f} MPa (拉应力)\")"
   ]
  },
  {
   "cell_type": "markdown",
   "metadata": {},
   "source": [
    "# 求解完毕！"
   ]
  }
 ],
 "metadata": {
  "kernelspec": {
   "display_name": "base",
   "language": "python",
   "name": "python3"
  },
  "language_info": {
   "codemirror_mode": {
    "name": "ipython",
    "version": 3
   },
   "file_extension": ".py",
   "mimetype": "text/x-python",
   "name": "python",
   "nbconvert_exporter": "python",
   "pygments_lexer": "ipython3",
   "version": "3.12.9"
  }
 },
 "nbformat": 4,
 "nbformat_minor": 2
}
