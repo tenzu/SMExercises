{
 "cells": [
  {
   "cell_type": "markdown",
   "metadata": {},
   "source": [
    "# 9.6题求解过程"
   ]
  },
  {
   "cell_type": "code",
   "execution_count": null,
   "metadata": {},
   "outputs": [],
   "source": [
    "import chapter_9_module as c9m\n",
    "t = 1 * 1e-2\n",
    "q = 5 * 1e4\n",
    "a = 40 * 1e-2  # 板条梁跨长\n",
    "b = 150 * 1e-2"
   ]
  },
  {
   "cell_type": "markdown",
   "metadata": {},
   "source": [
    "## 套公式求解"
   ]
  },
  {
   "cell_type": "code",
   "execution_count": null,
   "metadata": {},
   "outputs": [],
   "source": [
    "# 查表得到以下系数\n",
    "k1 = 0.1356\n",
    "k2 = 0.0397\n",
    "k3 = 0.1203\n",
    "k4 = 0.1249"
   ]
  },
  {
   "cell_type": "markdown",
   "metadata": {},
   "source": [
    "1. 按公式计算板的重点挠度\n",
    "$$ w_{max} = K_1 \\frac{qa^4}{Et^3} $$\n"
   ]
  },
  {
   "cell_type": "code",
   "execution_count": null,
   "metadata": {},
   "outputs": [],
   "source": [
    "w_eq = k1 * q * a**4 / (c9m.youngsModulus * t**3)\n",
    "print(f\"根据公式计算出板的最大挠度 w_eq 为 {w_eq:.3f} m = {w_eq*1000:.4f} mm\")"
   ]
  },
  {
   "cell_type": "markdown",
   "metadata": {},
   "source": [
    "2. 按公式计算板的最大弯矩\n",
    "$$ \\overline{M}_{y} = -K_4 q a^2 $$"
   ]
  },
  {
   "cell_type": "code",
   "execution_count": null,
   "metadata": {},
   "outputs": [],
   "source": [
    "M_eq = -k4 * q * a**2\n",
    "print(f\"根据公式计算出板的最大弯矩 M_eq 为 {M_eq:.3f} N*m\")"
   ]
  },
  {
   "cell_type": "markdown",
   "metadata": {},
   "source": [
    "3. 根据弯矩计算应力"
   ]
  },
  {
   "cell_type": "code",
   "execution_count": null,
   "metadata": {},
   "outputs": [],
   "source": [
    "sigma_eq = c9m.bendingNormalStress(M_eq, t)\n",
    "print(f\"根据弯矩计算出板的应力 sigma_eq 为 {abs(sigma_eq * 1e-6):.3f} MPa\")"
   ]
  },
  {
   "cell_type": "markdown",
   "metadata": {},
   "source": [
    "## 使用板条梁模型求解\n",
    "1. 校验是否需要考虑弯曲引起的中面力"
   ]
  },
  {
   "cell_type": "code",
   "execution_count": null,
   "metadata": {},
   "outputs": [],
   "source": [
    "w_bending = c9m.midSpanDeflection2(q, a, c9m.E1(), t)\n",
    "print(f\"普通弯曲时板条梁的最大挠度 w_bending 为 {w_bending*1e3:.2f} mm\")\n",
    "print(f\"0.2倍的板厚为\\t{0.2 * t*1e3:.2f} mm\")\n",
    "print(f\"普通弯曲挠度小于0.2倍板厚，因此不计弯曲引起的中面力\")"
   ]
  },
  {
   "cell_type": "markdown",
   "metadata": {},
   "source": [
    "2. 计算板条梁弯矩和应力"
   ]
  },
  {
   "cell_type": "code",
   "execution_count": null,
   "metadata": {},
   "outputs": [],
   "source": [
    "M_bending = -1 / 8 * q * a**2\n",
    "print(f\"板条梁弯矩 M_bending 为 {M_bending:.3f} N*m\")\n",
    "sigma_bending = c9m.bendingNormalStress(M_bending, t)\n",
    "print(f\"板条梁应力 sigma_bending 为 {abs(sigma_bending * 1e-6):.3f} MPa\")"
   ]
  },
  {
   "cell_type": "markdown",
   "metadata": {},
   "source": [
    "## 总结：板条梁模型计算结果偏大，偏安全。\n",
    "# 求解完毕！\n"
   ]
  }
 ],
 "metadata": {
  "kernelspec": {
   "display_name": "base",
   "language": "python",
   "name": "python3"
  },
  "language_info": {
   "codemirror_mode": {
    "name": "ipython",
    "version": 3
   },
   "file_extension": ".py",
   "mimetype": "text/x-python",
   "name": "python",
   "nbconvert_exporter": "python",
   "pygments_lexer": "ipython3",
   "version": "3.12.9"
  }
 },
 "nbformat": 4,
 "nbformat_minor": 2
}
