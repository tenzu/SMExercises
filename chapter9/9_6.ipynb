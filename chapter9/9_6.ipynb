{
 "cells": [
  {
   "cell_type": "markdown",
   "metadata": {},
   "source": [
    "# 9.6题求解过程"
   ]
  },
  {
   "cell_type": "code",
   "execution_count": 1,
   "metadata": {},
   "outputs": [],
   "source": [
    "import chapter9module as c9m\n",
    "t = 1 * 1e-2\n",
    "q = 5 * 1e4\n",
    "a = 40 * 1e-2  # 板条梁跨长\n",
    "b = 150 * 1e-2"
   ]
  },
  {
   "cell_type": "markdown",
   "metadata": {},
   "source": [
    "## 套公式求解"
   ]
  },
  {
   "cell_type": "code",
   "execution_count": 2,
   "metadata": {},
   "outputs": [],
   "source": [
    "# 查表得到以下系数\n",
    "k1 = 0.1356\n",
    "k2 = 0.0397\n",
    "k3 = 0.1203\n",
    "k4 = 0.1249"
   ]
  },
  {
   "cell_type": "markdown",
   "metadata": {},
   "source": [
    "1. 按公式计算板的重点挠度\n"
   ]
  },
  {
   "cell_type": "code",
   "execution_count": 3,
   "metadata": {},
   "outputs": [
    {
     "name": "stdout",
     "output_type": "stream",
     "text": [
      "根据公式计算出板的最大挠度 w_eq 为 0.001 m = 0.8265 mm\n"
     ]
    }
   ],
   "source": [
    "w_eq = k1 * q * a**4 / (c9m.youngsModulus * t**3)\n",
    "print(f\"根据公式计算出板的最大挠度 w_eq 为 {w_eq:.3f} m = {w_eq*1000:.4f} mm\")"
   ]
  },
  {
   "cell_type": "markdown",
   "metadata": {},
   "source": [
    "2. 按公式计算板的最大弯矩"
   ]
  },
  {
   "cell_type": "code",
   "execution_count": 4,
   "metadata": {},
   "outputs": [
    {
     "name": "stdout",
     "output_type": "stream",
     "text": [
      "根据公式计算出板的最大弯矩 M_eq 为 -999.200 N*m\n"
     ]
    }
   ],
   "source": [
    "M_eq = -k4 * q * a**2\n",
    "print(f\"根据公式计算出板的最大弯矩 M_eq 为 {M_eq:.3f} N*m\")"
   ]
  },
  {
   "cell_type": "markdown",
   "metadata": {},
   "source": [
    "3. 根据弯矩计算应力"
   ]
  },
  {
   "cell_type": "code",
   "execution_count": 5,
   "metadata": {},
   "outputs": [
    {
     "name": "stdout",
     "output_type": "stream",
     "text": [
      "根据弯矩计算出板的应力 sigma_eq 为 59.952 MPa\n"
     ]
    }
   ],
   "source": [
    "sigma_eq = c9m.bendingNormalStress(M_eq, t)\n",
    "print(f\"根据弯矩计算出板的应力 sigma_eq 为 {abs(sigma_eq * 1e-6):.3f} MPa\")"
   ]
  }
 ],
 "metadata": {
  "kernelspec": {
   "display_name": "base",
   "language": "python",
   "name": "python3"
  },
  "language_info": {
   "codemirror_mode": {
    "name": "ipython",
    "version": 3
   },
   "file_extension": ".py",
   "mimetype": "text/x-python",
   "name": "python",
   "nbconvert_exporter": "python",
   "pygments_lexer": "ipython3",
   "version": "3.12.2"
  }
 },
 "nbformat": 4,
 "nbformat_minor": 2
}
