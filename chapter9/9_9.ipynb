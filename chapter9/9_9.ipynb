{
 "cells": [
  {
   "cell_type": "markdown",
   "metadata": {},
   "source": [
    "# 9.9题求解过程"
   ]
  },
  {
   "cell_type": "code",
   "execution_count": 1,
   "metadata": {},
   "outputs": [],
   "source": [
    "import chapter_9_module as c9m\n",
    "import sympy as sp\n",
    "\n",
    "a, b = sp.symbols(\"a b\", positive=True)\n",
    "t = sp.symbols(\"t\", positive=True)\n",
    "x, y = sp.symbols(\"x y\")\n",
    "E_beam, I_beam = sp.symbols(\"E_beam I_beam\", positive=True)\n",
    "# 挠曲面函数仅取第一项\n",
    "A11 = sp.symbols(\"A11\", real=True)\n",
    "w = A11 * sp.sin(sp.pi * x / a) * sp.sin(sp.pi * y / (4 * b))"
   ]
  },
  {
   "cell_type": "markdown",
   "metadata": {},
   "source": [
    "1. 写出边界条件"
   ]
  },
  {
   "cell_type": "code",
   "execution_count": 2,
   "metadata": {},
   "outputs": [
    {
     "name": "stdout",
     "output_type": "stream",
     "text": [
      "x = 0 时：w = 0， w' = pi*A11*sin(pi*y/(4*b))/a， w'' = 0\n",
      "x = a 时：w = 0， w' = -pi*A11*sin(pi*y/(4*b))/a， w'' = 0\n",
      "y = 0 时：w = 0， w' = pi*A11*sin(pi*x/a)/(4*b)， w'' = 0\n",
      "y = a 时：w = sqrt(2)*A11*sin(pi*x/a)/2， w' = sqrt(2)*pi*A11*sin(pi*x/a)/(8*b)， w'' = -sqrt(2)*pi**2*A11*sin(pi*x/a)/(32*b**2)\n"
     ]
    }
   ],
   "source": [
    "print(\n",
    "    f\"x = 0 时：w = {w.subs(x,0)}， w' = {w.diff(x).subs(x,0)}， w'' = {w.diff(x,2).subs(x,0)}\"\n",
    ")\n",
    "print(\n",
    "    f\"x = a 时：w = {w.subs(x,a)}， w' = {w.diff(x).subs(x,a)}， w'' = {w.diff(x,2).subs(x,a)}\"\n",
    ")\n",
    "print(\n",
    "    f\"y = 0 时：w = {w.subs(y,0)}， w' = {w.diff(y).subs(y,0)}， w'' = {w.diff(y,2).subs(y,0)}\"\n",
    ")\n",
    "print(\n",
    "    f\"y = a 时：w = {w.subs(y,b)}， w' = {w.diff(y).subs(y,b)}， w'' = {w.diff(y,2).subs(y,b)}\"\n",
    ")"
   ]
  },
  {
   "cell_type": "markdown",
   "metadata": {},
   "source": [
    "2. 计算应变能"
   ]
  },
  {
   "cell_type": "code",
   "execution_count": 3,
   "metadata": {},
   "outputs": [
    {
     "name": "stdout",
     "output_type": "stream",
     "text": [
      "应变能 = 9615384615.38461*t**3*(pi**3*A11**2*a*(-1/4 + pi/8)/(128*b**3) + pi**3*A11**2*(-1/4 + pi/8)/(4*a*b) + 2*pi**3*A11**2*b*(-1/4 + pi/8)/a**3)\n"
     ]
    }
   ],
   "source": [
    "V = c9m.plateStrainEnergy(w, t, 0, a, 0, b)\n",
    "print(f\"应变能 = {V}\")  # 不满足格林公式使用条件，简化版应变能公式无法使用，死循环了"
   ]
  },
  {
   "cell_type": "markdown",
   "metadata": {},
   "source": [
    "# sympy 计算二阶偏微分时有bug，暂时无解"
   ]
  }
 ],
 "metadata": {
  "kernelspec": {
   "display_name": "base",
   "language": "python",
   "name": "python3"
  },
  "language_info": {
   "codemirror_mode": {
    "name": "ipython",
    "version": 3
   },
   "file_extension": ".py",
   "mimetype": "text/x-python",
   "name": "python",
   "nbconvert_exporter": "python",
   "pygments_lexer": "ipython3",
   "version": "3.12.9"
  }
 },
 "nbformat": 4,
 "nbformat_minor": 2
}
