{
 "cells": [
  {
   "cell_type": "markdown",
   "metadata": {},
   "source": [
    "# 9.9题求解过程"
   ]
  },
  {
   "cell_type": "code",
   "execution_count": null,
   "metadata": {},
   "outputs": [],
   "source": [
    "import chapter9module as c9m\n",
    "import sympy as sp\n",
    "\n",
    "a, b = sp.symbols(\"a b\", positive=True)\n",
    "t = sp.symbols(\"t\", positive=True)\n",
    "x, y = sp.symbols(\"x y\")\n",
    "E_beam, I_beam = sp.symbols(\"E_beam I_beam\", positive=True)\n",
    "# 挠曲面函数仅取第一项\n",
    "A11 = sp.symbols(\"A11\", real=True)\n",
    "w = A11 * sp.sin(sp.pi * x / a) * sp.sin(sp.pi * y / (4 * b))"
   ]
  }
 ],
 "metadata": {
  "kernelspec": {
   "display_name": "base",
   "language": "python",
   "name": "python3"
  },
  "language_info": {
   "name": "python",
   "version": "3.12.2"
  }
 },
 "nbformat": 4,
 "nbformat_minor": 2
}
