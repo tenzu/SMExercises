{
 "cells": [
  {
   "cell_type": "markdown",
   "metadata": {},
   "source": [
    "# 9.9题求解过程"
   ]
  },
  {
   "cell_type": "code",
   "execution_count": null,
   "metadata": {},
   "outputs": [],
   "source": [
    "import chapter_9_module as c9m\n",
    "import sympy as sp\n",
    "\n",
    "a, b = sp.symbols(\"a b\", positive=True)\n",
    "t = sp.symbols(\"t\", positive=True)\n",
    "x, y = sp.symbols(\"x y\")\n",
    "E_beam, I_beam = sp.symbols(\"E_beam I_beam\", positive=True)\n",
    "# 挠曲面函数仅取第一项\n",
    "A11 = sp.symbols(\"A11\", real=True)\n",
    "w = A11 * sp.sin(sp.pi * x / a) * sp.sin(sp.pi * y / (4 * b))"
   ]
  },
  {
   "cell_type": "markdown",
   "metadata": {},
   "source": [
    "1. 写出边界条件"
   ]
  },
  {
   "cell_type": "code",
   "execution_count": null,
   "metadata": {},
   "outputs": [],
   "source": [
    "print(\n",
    "    f\"x = 0 时：w = {w.subs(x,0)}， w' = {w.diff(x).subs(x,0)}， w'' = {w.diff(x,2).subs(x,0)}\"\n",
    ")\n",
    "print(\n",
    "    f\"x = a 时：w = {w.subs(x,a)}， w' = {w.diff(x).subs(x,a)}， w'' = {w.diff(x,2).subs(x,a)}\"\n",
    ")\n",
    "print(\n",
    "    f\"y = 0 时：w = {w.subs(y,0)}， w' = {w.diff(y).subs(y,0)}， w'' = {w.diff(y,2).subs(y,0)}\"\n",
    ")\n",
    "print(\n",
    "    f\"y = a 时：w = {w.subs(y,b)}， w' = {w.diff(y).subs(y,b)}， w'' = {w.diff(y,2).subs(y,b)}\"\n",
    ")"
   ]
  },
  {
   "cell_type": "markdown",
   "metadata": {},
   "source": [
    "2. 计算应变能"
   ]
  },
  {
   "cell_type": "code",
   "execution_count": null,
   "metadata": {},
   "outputs": [],
   "source": [
    "V = c9m.plateStrainEnergy(w, t, 0, a, 0, b)\n",
    "print(f\"应变能 = {V}\")  # 不满足格林公式使用条件，简化版应变能公式无法使用，死循环了"
   ]
  },
  {
   "cell_type": "markdown",
   "metadata": {},
   "source": [
    "# sympy 计算二阶偏微分时有bug，暂时无解"
   ]
  }
 ],
 "metadata": {
  "kernelspec": {
   "display_name": "base",
   "language": "python",
   "name": "python3"
  },
  "language_info": {
   "codemirror_mode": {
    "name": "ipython",
    "version": 3
   },
   "file_extension": ".py",
   "mimetype": "text/x-python",
   "name": "python",
   "nbconvert_exporter": "python",
   "pygments_lexer": "ipython3",
   "version": "3.12.9"
  }
 },
 "nbformat": 4,
 "nbformat_minor": 2
}
