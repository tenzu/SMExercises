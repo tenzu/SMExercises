{
 "cells": [
  {
   "cell_type": "markdown",
   "metadata": {},
   "source": [
    "# 本程序用于分析往届《结构力学（2）》的成绩"
   ]
  },
  {
   "cell_type": "code",
   "execution_count": 1,
   "metadata": {},
   "outputs": [],
   "source": [
    "import os\n",
    "import pandas as pd\n",
    "from matplotlib import pyplot as plt\n",
    "\n",
    "\n",
    "path = \"./\"\n",
    "files = os.listdir(path)"
   ]
  },
  {
   "cell_type": "markdown",
   "metadata": {},
   "source": [
    "定义读入文件生成 DataFrame 的函数"
   ]
  },
  {
   "cell_type": "code",
   "execution_count": 2,
   "metadata": {},
   "outputs": [],
   "source": [
    "# 定义读入单个文件生成 DataFrame 的函数\n",
    "def readFile(fileName):\n",
    "    df = pd.read_csv(fileName, sep=\"\\t\")\n",
    "    return df\n",
    "\n",
    "\n",
    "# 定义读入全部文件生成 DataFrame 的函数\n",
    "def readFiles(files):\n",
    "    df = pd.DataFrame()\n",
    "    for file in files:\n",
    "        # 判断文件是否以 .txt 结尾\n",
    "        if file.endswith(\".txt\"):\n",
    "            df = pd.concat([df, readFile(file)])\n",
    "    return df"
   ]
  },
  {
   "cell_type": "code",
   "execution_count": null,
   "metadata": {},
   "outputs": [],
   "source": [
    "# 输入1：读入指定文件名的文件，输入2：读入全部文件，输入其他内容退出程序\n",
    "def main():\n",
    "    print(\"输入1：读入指定文件名的文件，输入2：读入全部文件，输入其他内容退出程序\")\n",
    "    choice = input()\n",
    "    if choice == \"1\":\n",
    "        fileName = input(\"请输入文件名：\") + \".txt\"\n",
    "        df = readFile(fileName)\n",
    "    elif choice == \"2\":\n",
    "        df = readFiles(files)\n",
    "    else:\n",
    "        exit()\n",
    "    return df\n",
    "\n",
    "\n",
    "df = main()"
   ]
  },
  {
   "cell_type": "code",
   "execution_count": null,
   "metadata": {},
   "outputs": [],
   "source": [
    "# 重新生成 index 从 0 开始\n",
    "df = df.reset_index(drop=True)\n",
    "len1 = len(df)\n",
    "# 清洗数据\n",
    "# 去除”期末成绩“不是数字的行\n",
    "df = df[pd.to_numeric(df[\"期末成绩\"], errors=\"coerce\").notnull()]\n",
    "# 将”期末成绩“、”平时成绩“、”最终成绩“转换为数值型\n",
    "df[\"期末成绩\"] = pd.to_numeric(df[\"期末成绩\"], errors=\"coerce\")\n",
    "df[\"平时成绩\"] = pd.to_numeric(df[\"平时成绩\"], errors=\"coerce\")\n",
    "df[\"最终成绩\"] = pd.to_numeric(df[\"最终成绩\"], errors=\"coerce\")\n",
    "len2 = len(df)\n",
    "print(f\"初始数据一共有 {len1} 条，清洗后一共有 {len2} 条数据\")"
   ]
  },
  {
   "cell_type": "code",
   "execution_count": null,
   "metadata": {},
   "outputs": [],
   "source": [
    "# 当前有效成绩总数\n",
    "print(f\"当前有效成绩共 {len2} 条记录\")\n",
    "# 列出平时成绩平均值和标准差，列出总评成绩平均值和标准差，列出最终成绩平均值和标准差\n",
    "print(\n",
    "    f\"平时成绩：平均值 = {df[\"平时成绩\"].mean():.2f}, 标准差 = {df[\"平时成绩\"].std():.2f}\"\n",
    ")\n",
    "print(\n",
    "    f\"期末成绩：平均值 = {df[\"期末成绩\"].mean():.2f}, 标准差 = {df[\"期末成绩\"].std():.2f}\"\n",
    ")\n",
    "print(\n",
    "    f\"最终成绩：平均值 = {df[\"最终成绩\"].mean():.2f}, 标准差 = {df[\"最终成绩\"].std():.2f}\"\n",
    ")"
   ]
  },
  {
   "cell_type": "code",
   "execution_count": null,
   "metadata": {},
   "outputs": [],
   "source": [
    "# 绘制最终成绩直方图，显示均值、方差、标准差\n",
    "plt.hist(df[\"最终成绩\"], bins=25, edgecolor=\"black\", histtype=\"bar\", alpha=0.7)\n",
    "plt.xlabel(\"Final Score\")\n",
    "plt.ylabel(\"Number of Students\")\n",
    "plt.title(\"Final Score Distribution\")\n",
    "plt.axvline(df[\"最终成绩\"].mean(), color=\"red\", linestyle=\"--\", label=\"mean value\")\n",
    "plt.axvline(\n",
    "    df[\"最终成绩\"].mean() + df[\"最终成绩\"].std(),\n",
    "    color=\"green\",\n",
    "    linestyle=\"--\",\n",
    "    label=\"mean value ± std\",\n",
    ")\n",
    "plt.axvline(df[\"最终成绩\"].mean() - df[\"最终成绩\"].std(), color=\"green\", linestyle=\"--\")\n",
    "plt.legend()\n",
    "plt.show()"
   ]
  }
 ],
 "metadata": {
  "kernelspec": {
   "display_name": "base",
   "language": "python",
   "name": "python3"
  },
  "language_info": {
   "codemirror_mode": {
    "name": "ipython",
    "version": 3
   },
   "file_extension": ".py",
   "mimetype": "text/x-python",
   "name": "python",
   "nbconvert_exporter": "python",
   "pygments_lexer": "ipython3",
   "version": "3.12.2"
  }
 },
 "nbformat": 4,
 "nbformat_minor": 2
}
