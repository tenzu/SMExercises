{
 "cells": [
  {
   "cell_type": "markdown",
   "metadata": {},
   "source": [
    "# 本程序用于分析往届《结构力学（2）》的成绩"
   ]
  },
  {
   "cell_type": "code",
   "execution_count": 1,
   "metadata": {},
   "outputs": [],
   "source": [
    "import pandas as pd\n",
    "import os\n",
    "\n",
    "path = './'\n",
    "files = os.listdir(path)\n"
   ]
  },
  {
   "cell_type": "markdown",
   "metadata": {},
   "source": [
    "读入文件生成 DataFrame 的函数"
   ]
  },
  {
   "cell_type": "code",
   "execution_count": 2,
   "metadata": {},
   "outputs": [],
   "source": [
    "def readFile(fileName):\n",
    "    return pd.read_csv(fileName, sep='\\t')\n"
   ]
  },
  {
   "cell_type": "code",
   "execution_count": 3,
   "metadata": {},
   "outputs": [
    {
     "data": {
      "text/html": [
       "<div>\n",
       "<style scoped>\n",
       "    .dataframe tbody tr th:only-of-type {\n",
       "        vertical-align: middle;\n",
       "    }\n",
       "\n",
       "    .dataframe tbody tr th {\n",
       "        vertical-align: top;\n",
       "    }\n",
       "\n",
       "    .dataframe thead th {\n",
       "        text-align: right;\n",
       "    }\n",
       "</style>\n",
       "<table border=\"1\" class=\"dataframe\">\n",
       "  <thead>\n",
       "    <tr style=\"text-align: right;\">\n",
       "      <th></th>\n",
       "      <th>序号</th>\n",
       "      <th>学号</th>\n",
       "      <th>姓名</th>\n",
       "      <th>修读类别</th>\n",
       "      <th>期末成绩</th>\n",
       "      <th>平时成绩</th>\n",
       "      <th>总评成绩</th>\n",
       "      <th>最终成绩</th>\n",
       "      <th>绩点</th>\n",
       "      <th>是否通过</th>\n",
       "      <th>状态</th>\n",
       "    </tr>\n",
       "  </thead>\n",
       "  <tbody>\n",
       "    <tr>\n",
       "      <th>NaN</th>\n",
       "      <td>1</td>\n",
       "      <td>3019205236</td>\n",
       "      <td>陈绍卿</td>\n",
       "      <td>重修</td>\n",
       "      <td>62</td>\n",
       "      <td>62</td>\n",
       "      <td>62</td>\n",
       "      <td>62</td>\n",
       "      <td>1.0</td>\n",
       "      <td>是</td>\n",
       "      <td>已发布</td>\n",
       "    </tr>\n",
       "    <tr>\n",
       "      <th>NaN</th>\n",
       "      <td>2</td>\n",
       "      <td>3021205062</td>\n",
       "      <td>刘毅海</td>\n",
       "      <td>重修</td>\n",
       "      <td>60</td>\n",
       "      <td>60</td>\n",
       "      <td>60</td>\n",
       "      <td>60</td>\n",
       "      <td>1.0</td>\n",
       "      <td>是</td>\n",
       "      <td>已发布</td>\n",
       "    </tr>\n",
       "    <tr>\n",
       "      <th>NaN</th>\n",
       "      <td>3</td>\n",
       "      <td>3020205019</td>\n",
       "      <td>林嘉丰</td>\n",
       "      <td>重修</td>\n",
       "      <td>61</td>\n",
       "      <td>61</td>\n",
       "      <td>61</td>\n",
       "      <td>61</td>\n",
       "      <td>1.0</td>\n",
       "      <td>是</td>\n",
       "      <td>已发布</td>\n",
       "    </tr>\n",
       "    <tr>\n",
       "      <th>NaN</th>\n",
       "      <td>4</td>\n",
       "      <td>3022205011</td>\n",
       "      <td>陈鸿宇</td>\n",
       "      <td>正常</td>\n",
       "      <td>88</td>\n",
       "      <td>99</td>\n",
       "      <td>91</td>\n",
       "      <td>91</td>\n",
       "      <td>4.0</td>\n",
       "      <td>是</td>\n",
       "      <td>已发布</td>\n",
       "    </tr>\n",
       "    <tr>\n",
       "      <th>NaN</th>\n",
       "      <td>5</td>\n",
       "      <td>3022205019</td>\n",
       "      <td>孟令春</td>\n",
       "      <td>正常</td>\n",
       "      <td>96</td>\n",
       "      <td>97</td>\n",
       "      <td>96</td>\n",
       "      <td>96</td>\n",
       "      <td>4.0</td>\n",
       "      <td>是</td>\n",
       "      <td>已发布</td>\n",
       "    </tr>\n",
       "  </tbody>\n",
       "</table>\n",
       "</div>"
      ],
      "text/plain": [
       "     序号          学号   姓名 修读类别  期末成绩  平时成绩  总评成绩  最终成绩   绩点 是否通过   状态\n",
       "NaN   1  3019205236  陈绍卿   重修    62    62    62    62  1.0    是  已发布\n",
       "NaN   2  3021205062  刘毅海   重修    60    60    60    60  1.0    是  已发布\n",
       "NaN   3  3020205019  林嘉丰   重修    61    61    61    61  1.0    是  已发布\n",
       "NaN   4  3022205011  陈鸿宇   正常    88    99    91    91  4.0    是  已发布\n",
       "NaN   5  3022205019  孟令春   正常    96    97    96    96  4.0    是  已发布"
      ]
     },
     "execution_count": 3,
     "metadata": {},
     "output_type": "execute_result"
    }
   ],
   "source": [
    "df = readFile(\"24251.txt\")\n",
    "df.head()"
   ]
  }
 ],
 "metadata": {
  "kernelspec": {
   "display_name": "base",
   "language": "python",
   "name": "python3"
  },
  "language_info": {
   "codemirror_mode": {
    "name": "ipython",
    "version": 3
   },
   "file_extension": ".py",
   "mimetype": "text/x-python",
   "name": "python",
   "nbconvert_exporter": "python",
   "pygments_lexer": "ipython3",
   "version": "3.12.2"
  }
 },
 "nbformat": 4,
 "nbformat_minor": 2
}
