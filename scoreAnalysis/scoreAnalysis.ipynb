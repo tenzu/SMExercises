{
 "cells": [
  {
   "cell_type": "markdown",
   "metadata": {},
   "source": [
    "# 本程序用于分析往届《结构力学（2）》的成绩"
   ]
  },
  {
   "cell_type": "code",
   "execution_count": 1,
   "metadata": {},
   "outputs": [],
   "source": [
    "import os\n",
    "import pandas as pd\n",
    "from matplotlib import pyplot as plt\n",
    "\n",
    "\n",
    "path = \"./\"\n",
    "files = os.listdir(path)"
   ]
  },
  {
   "cell_type": "markdown",
   "metadata": {},
   "source": [
    "定义读入文件生成 DataFrame 的函数"
   ]
  },
  {
   "cell_type": "code",
   "execution_count": 2,
   "metadata": {},
   "outputs": [],
   "source": [
    "def readFile(fileName):\n",
    "    return pd.read_csv(fileName, sep=\"\\t\")"
   ]
  },
  {
   "cell_type": "code",
   "execution_count": 3,
   "metadata": {},
   "outputs": [],
   "source": [
    "semesterNumber = str(input(f\"请输入学期号码：\"))\n",
    "dataFileName = semesterNumber+\".txt\"\n",
    "df = readFile(dataFileName)\n",
    "# 重新生成 index 从 0 开始\n",
    "df = df.reset_index(drop=True)\n",
    "len1 = len(df)"
   ]
  },
  {
   "cell_type": "code",
   "execution_count": 4,
   "metadata": {},
   "outputs": [
    {
     "name": "stdout",
     "output_type": "stream",
     "text": [
      "初始数据一共有 87 条，清洗后一共有 87 条数据\n"
     ]
    }
   ],
   "source": [
    "# 清洗数据\n",
    "# 去除”最终成绩“为0的行\n",
    "df = df[df[\"最终成绩\"] != 0]\n",
    "len2 = len(df)\n",
    "print(f\"初始数据一共有 {len1} 条，清洗后一共有 {len2} 条数据\")\n",
    "# 将”期末成绩“转换为数值型\n",
    "df[\"期末成绩\"] = pd.to_numeric(df[\"期末成绩\"])\n"
   ]
  },
  {
   "cell_type": "code",
   "execution_count": 5,
   "metadata": {},
   "outputs": [
    {
     "name": "stdout",
     "output_type": "stream",
     "text": [
      "本学期考试有效成绩共 87 条记录\n",
      "平时成绩：平均值 = 91.92, 标准差 = 13.22\n",
      "期末成绩：平均值 = 81.87, 标准差 = 14.76\n",
      "总评成绩：平均值 = 84.99, 标准差 = 13.02\n"
     ]
    }
   ],
   "source": [
    "# 本学期考试总人数\n",
    "print(f\"本学期考试有效成绩共 {len2} 条记录\")\n",
    "# 列出平时成绩平均值和标准差，列出总评成绩平均值和标准差，列出最终成绩平均值和标准差\n",
    "print(f\"平时成绩：平均值 = {df[\"平时成绩\"].mean():.2f}, 标准差 = {df[\"平时成绩\"].std():.2f}\")\n",
    "print(f\"期末成绩：平均值 = {df[\"期末成绩\"].mean():.2f}, 标准差 = {df[\"期末成绩\"].std():.2f}\")\n",
    "print(f\"最终成绩：平均值 = {df[\"最终成绩\"].mean():.2f}, 标准差 = {df[\"最终成绩\"].std():.2f}\")"
   ]
  },
  {
   "cell_type": "code",
   "execution_count": 8,
   "metadata": {},
   "outputs": [
    {
     "data": {
      "image/png": "[encoded data removed]",
      "text/plain": [
       "<Figure size 640x480 with 1 Axes>"
      ]
     },
     "metadata": {},
     "output_type": "display_data"
    }
   ],
   "source": [
    "# 绘制最终成绩直方图\n",
    "plt.hist(df[\"最终成绩\"], bins=20, edgecolor=\"black\")\n",
    "plt.xlabel(\"Final score\")\n",
    "plt.ylabel(\"Number of students\")\n",
    "plt.title(\"Final score distribution\")\n",
    "plt.show()\n"
   ]
  }
 ],
 "metadata": {
  "kernelspec": {
   "display_name": "base",
   "language": "python",
   "name": "python3"
  },
  "language_info": {
   "codemirror_mode": {
    "name": "ipython",
    "version": 3
   },
   "file_extension": ".py",
   "mimetype": "text/x-python",
   "name": "python",
   "nbconvert_exporter": "python",
   "pygments_lexer": "ipython3",
   "version": "3.12.2"
  }
 },
 "nbformat": 4,
 "nbformat_minor": 2
}
