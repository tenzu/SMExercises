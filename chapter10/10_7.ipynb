{
 "cells": [
  {
   "cell_type": "markdown",
   "metadata": {},
   "source": [
    "# 10.7题求解过程"
   ]
  },
  {
   "cell_type": "code",
   "execution_count": null,
   "metadata": {},
   "outputs": [],
   "source": [
    "import chapter10module as c10m\n",
    "import sympy as sp\n",
    "\n",
    "longitudinal_A = 20 * 1e-4\n",
    "longitudinal_I = 1000 * 1e-8\n",
    "longitudinal_L = 5\n",
    "beam_I = 15000 * 1e-8\n",
    "beam_L = 6"
   ]
  }
 ],
 "metadata": {
  "kernelspec": {
   "display_name": "base",
   "language": "python",
   "name": "python3"
  },
  "language_info": {
   "name": "python",
   "version": "3.12.2"
  }
 },
 "nbformat": 4,
 "nbformat_minor": 2
}
