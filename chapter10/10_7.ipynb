{
 "cells": [
  {
   "cell_type": "markdown",
   "metadata": {},
   "source": [
    "# 10.7题求解过程"
   ]
  },
  {
   "cell_type": "code",
   "execution_count": null,
   "metadata": {},
   "outputs": [],
   "source": [
    "import chapter_10_module as c10m\n",
    "import sympy as sp\n",
    "\n",
    "longitudinal_A = 20 * 1e-4\n",
    "longitudinal_I = 1000 * 1e-8\n",
    "longitudinal_L = 5\n",
    "beam_I = 15000 * 1e-8\n",
    "beam_L = 6\n",
    "sigma_cr = sp.Symbol(\"sigma_cr\", positive=True)\n",
    "phai = sp.Symbol(\"phai\", positive=True)\n",
    "sigma_y = 400  # MPa"
   ]
  },
  {
   "cell_type": "markdown",
   "metadata": {},
   "source": [
    "## 求解（a）：\n",
    "1. 使用单位力法计算悬臂梁刚度系数\n",
    "$$ R = 1 时: \\quad v = \\frac{R}{K} = \\frac{L^3}{3 E I} \\Longrightarrow K = \\frac{3 E I}{L^3} $$"
   ]
  },
  {
   "cell_type": "code",
   "execution_count": null,
   "metadata": {},
   "outputs": [],
   "source": [
    "K = c10m.cantileverStiffness(beam_I, beam_L)\n",
    "print(f\"悬臂梁刚度系数K为 {K * 1e-3:.2f} kN/m\")  # 1250000/3"
   ]
  },
  {
   "cell_type": "markdown",
   "metadata": {},
   "source": [
    "## 求解（b）:\n",
    "1. 查附录 G"
   ]
  },
  {
   "cell_type": "code",
   "execution_count": null,
   "metadata": {},
   "outputs": [],
   "source": [
    "lamda = 1.0\n",
    "print(f\"查附录G得3跨梁弹性制作达到临界刚度时 lambda = 1.0\")\n",
    "Xj_max = 0.302\n",
    "print(f\"此时 Xj_max = 0.302\")"
   ]
  },
  {
   "cell_type": "markdown",
   "metadata": {},
   "source": [
    "2. 求单跨梁欧拉应力\n",
    "$$ \\sigma_0 = \\frac{\\pi^2 E i}{A l^2} $$"
   ]
  },
  {
   "cell_type": "code",
   "execution_count": null,
   "metadata": {},
   "outputs": [],
   "source": [
    "sigma_0 = c10m.eularForceSingleBeam(longitudinal_I, longitudinal_L) / longitudinal_A\n",
    "print(f\"对应的单跨梁欧拉应力为 {sigma_0 * 1e-6:.3f} MPa\")"
   ]
  },
  {
   "cell_type": "markdown",
   "metadata": {},
   "source": [
    "3. 列出方程组求解临界应力和 $\\varphi$ 的值\n",
    "$$ \n",
    "\\begin{cases}\n",
    "\\frac{\\sigma_{cr}}{\\varphi \\sigma_0} & = & 1.0\\\\\n",
    "\\varphi  & = & \\frac{4(\\sigma_y - \\sigma_{cr}) \\sigma_{cr}}{\\sigma_y}^2\n",
    "\\end{cases} $$"
   ]
  },
  {
   "cell_type": "code",
   "execution_count": null,
   "metadata": {},
   "outputs": [],
   "source": [
    "eq1 = sp.Eq(lamda, sigma_cr / (phai * sigma_0 / 1e6))\n",
    "eq2 = sp.Eq(phai, 4 * (sigma_y - sigma_cr) * sigma_cr / sigma_y**2)\n",
    "# 解方程\n",
    "solution = sp.solve([eq1, eq2], [sigma_cr, phai])\n",
    "sigma_cr_value = solution[0][0]\n",
    "phai_value = solution[0][1]\n",
    "print(f\"临界应力为 {sigma_cr_value:.2f} MPa\")\n",
    "print(f\"phai = {phai_value:.3f}\")"
   ]
  },
  {
   "cell_type": "markdown",
   "metadata": {},
   "source": [
    "4. 计算临界刚度\n",
    "$$ K_c = \\frac{\\varphi X_{j,max} \\pi^4 E i}{l^3} $$"
   ]
  },
  {
   "cell_type": "code",
   "execution_count": null,
   "metadata": {},
   "outputs": [],
   "source": [
    "K_cr = c10m.K_cr(phai_value, Xj_max, longitudinal_I, longitudinal_L)\n",
    "print(f\"临界刚度K_cr = {K_cr:.2f} N/m = {K_cr * 1e-3:.2f} kN/m\")"
   ]
  },
  {
   "cell_type": "markdown",
   "metadata": {},
   "source": [
    "## 求解（c）："
   ]
  },
  {
   "cell_type": "code",
   "execution_count": null,
   "metadata": {},
   "outputs": [],
   "source": [
    "print(f\"因为K>K_cr\")\n",
    "print(f\"所以临界应力为 {sigma_cr_value:.2f} MPa\")"
   ]
  },
  {
   "cell_type": "markdown",
   "metadata": {},
   "source": [
    "# 求解完毕！"
   ]
  }
 ],
 "metadata": {
  "kernelspec": {
   "display_name": "base",
   "language": "python",
   "name": "python3"
  },
  "language_info": {
   "codemirror_mode": {
    "name": "ipython",
    "version": 3
   },
   "file_extension": ".py",
   "mimetype": "text/x-python",
   "name": "python",
   "nbconvert_exporter": "python",
   "pygments_lexer": "ipython3",
   "version": "3.12.9"
  }
 },
 "nbformat": 4,
 "nbformat_minor": 2
}
