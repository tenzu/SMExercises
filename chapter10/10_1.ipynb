{
 "cells": [
  {
   "cell_type": "markdown",
   "metadata": {},
   "source": [
    "# 10.1题求解过程"
   ]
  },
  {
   "cell_type": "code",
   "execution_count": 1,
   "metadata": {},
   "outputs": [],
   "source": [
    "import chapter10module as c10m"
   ]
  },
  {
   "cell_type": "markdown",
   "metadata": {},
   "source": [
    "## 求解（1）：\n",
    "### 线弹性稳定性的解\n",
    "\n",
    "1. 计算球扁钢和带板的形心高度与截面惯性矩"
   ]
  },
  {
   "cell_type": "code",
   "execution_count": null,
   "metadata": {},
   "outputs": [],
   "source": [
    "l = 350 * 1e-2\n",
    "t = 20 * 1e-2\n",
    "A1 = 11.15 * 1e-4  # 球扁钢截面积，题目中原为16.7\n",
    "# A2 = 0.22 * 2 * 75 * 20 * 1e-4  # 带板截面积，带板宽度按0.22*2倍扶强材间距计算\n",
    "A2 = 75 * t * 1e2 * 1e-4  # 带板截面积，带板宽度按1.0倍扶强材间距计算\n",
    "I1 = 158 * 1e-8  # 球扁钢截面惯性矩\n",
    "# I2 = 0.22 * 2 * 75 * 20**3 / 12 * 1e-8  # 带板截面惯性矩，带板宽度按0.22*2倍扶强材间距计算\n",
    "I2 = 75 * 20**3 / 12 * 1e-8  # 带板截面惯性矩，带板宽度按1.0倍扶强材间距计算\n",
    "y1 = t + 75.5 * 1e-3  # 查表得到球扁钢形心高度\n",
    "y2 = t / 2  # 带板高度为板厚的一半\n",
    "y0 = c10m.centroidofAreas(A1, y1, A2, y2)\n",
    "print(f\"组合体形心高度为 {y0*1e2:.2f} cm\")\n",
    "d1 = y1 - y0\n",
    "d2 = y0 - t / 2\n",
    "I0 = c10m.shiftAxisFormula(I1, A1, d1, I2, A2, d2)\n",
    "print(f\"组合体截面惯性矩为 {I0*1e8:.2f} cm^4\")"
   ]
  },
  {
   "cell_type": "markdown",
   "metadata": {},
   "source": [
    "2. 计算单跨梁欧拉应力并校核强度"
   ]
  },
  {
   "cell_type": "code",
   "execution_count": null,
   "metadata": {},
   "outputs": [],
   "source": [
    "T_E = c10m.eularForceSingleBeam(I0, l)\n",
    "print(f\"单跨梁欧拉力为 {T_E*1e-6:.2f} MN\")\n",
    "sigma_E = T_E / (A1 + A2)\n",
    "print(f\"单跨梁欧拉应力为 {sigma_E*1e-6:.2f} MPa\")\n",
    "text = c10m.strengthCheck(sigma_E)\n",
    "print(f\"{text}\")"
   ]
  },
  {
   "cell_type": "markdown",
   "metadata": {},
   "source": [
    "### 非弹性稳定性的解\n",
    "1. 计算单跨梁柔度系数 lambda"
   ]
  },
  {
   "cell_type": "code",
   "execution_count": null,
   "metadata": {},
   "outputs": [],
   "source": [
    "lamda = c10m.lamdaSingleBeam(l, I0, (A1 + A2))\n",
    "print(f\"单跨梁柔度系数 lamda 为 {lamda:.1f}\")\n",
    "print(f\"柔度系数小于100，在非弹性范围内。\")"
   ]
  },
  {
   "cell_type": "markdown",
   "metadata": {},
   "source": [
    "2. 计算单跨梁临界应力并胶合强度"
   ]
  },
  {
   "cell_type": "code",
   "execution_count": null,
   "metadata": {},
   "outputs": [],
   "source": [
    "sigma_cr = c10m.lamda2Sigmacr(lamda, 235)\n",
    "print(f\"单跨梁临界应力 sigma_cr 为 {sigma_cr:.2f} MP\")\n",
    "text = c10m.strengthCheck(sigma_cr)\n",
    "print(f\"{text}\")"
   ]
  },
  {
   "cell_type": "markdown",
   "metadata": {},
   "source": [
    "## 求解（2）：\n",
    "### 线弹性稳定性的解\n",
    "1. 计算球扁钢和带板的形心高度与截面惯性矩"
   ]
  },
  {
   "cell_type": "code",
   "execution_count": null,
   "metadata": {},
   "outputs": [],
   "source": [
    "l = 2\n",
    "t = 6 * 1e-3\n",
    "A1 = 8.63 * 1e-4  # 球扁钢截面积\n",
    "A2 = 50 * 1e-2 * t  # 带板截面积，带板宽度按1.0倍扶强材间距计算\n",
    "# A2 = 0.22 * 2 * 50 * 1e-2 * t # 带板截面积，带板宽度按0.22*2倍扶强材间距计算\n",
    "I1 = 85.22 * 1e-8  # 球扁钢截面惯性矩\n",
    "I2 = 50 * 0.6**3 / 12 * 1e-8  # 带板截面惯性矩，带板宽度按1.0倍扶强材间距计算\n",
    "# I2 = 0.22 * 2 * 50 * 0.6**3 / 12 * 1e-8  # 带板截面惯性矩，带板宽度按0.22*2倍扶强材间距计算\n",
    "y1 = t + 6.29 * 1e-2  # 查表得到球扁钢形心高度\n",
    "y2 = t / 2  # 带板高度为板厚的一半\n",
    "y0 = c10m.centroidofAreas(A1, y1, A2, y2)\n",
    "print(f\"组合体形心高度 y0为\\t{y0*1e2:.2f} cm\")\n",
    "\n",
    "d1 = y1 - y0\n",
    "d2 = y0 - t / 2\n",
    "I0 = c10m.shiftAxisFormula(I1, A1, d1, I2, A2, d2)\n",
    "print(f\"组合体截面惯性矩 I0 为 {I0*1e8:.2f} cm^4\")"
   ]
  },
  {
   "cell_type": "markdown",
   "metadata": {},
   "source": [
    "2. 计算单跨梁欧拉应力并校核强度"
   ]
  },
  {
   "cell_type": "code",
   "execution_count": null,
   "metadata": {},
   "outputs": [],
   "source": [
    "T_E = c10m.eularForceSingleBeam(I0, l)\n",
    "print(f\"单跨梁欧拉力 T_E 为 {T_E*1e-6:.2f} MN\")\n",
    "sigma_E = T_E / (A1 + A2)\n",
    "print(f\"单跨梁欧拉应力 sigma_E 为 {sigma_E*1e-6:.2f} MPa\")\n",
    "text = c10m.strengthCheck(sigma_E)\n",
    "print(f\"{text}\")"
   ]
  },
  {
   "cell_type": "markdown",
   "metadata": {},
   "source": [
    "### 非弹性稳定性的解\n",
    "1. 计算单跨梁柔度系数 lambda"
   ]
  },
  {
   "cell_type": "code",
   "execution_count": null,
   "metadata": {},
   "outputs": [],
   "source": [
    "lamda = c10m.lamdaSingleBeam(l, I0, (A1 + A2))\n",
    "print(f\"单跨梁柔度系数为 {lamda:.1f}\")\n",
    "print(f\"柔度系数大于100，在非弹性范围外。\")"
   ]
  },
  {
   "cell_type": "markdown",
   "metadata": {},
   "source": [
    "2. 计算单跨梁临界应力并校核强度"
   ]
  },
  {
   "cell_type": "code",
   "execution_count": null,
   "metadata": {},
   "outputs": [],
   "source": [
    "sigma_cr = c10m.lamda2Sigmacr(lamda, 235)\n",
    "print(f\"单跨梁临界应力为 {sigma_cr:.2f} MP\")\n",
    "text = c10m.strengthCheck(sigma_cr)\n",
    "print(f\"{text}\")"
   ]
  },
  {
   "cell_type": "markdown",
   "metadata": {},
   "source": [
    "# 求解完毕！"
   ]
  }
 ],
 "metadata": {
  "kernelspec": {
   "display_name": "base",
   "language": "python",
   "name": "python3"
  },
  "language_info": {
   "codemirror_mode": {
    "name": "ipython",
    "version": 3
   },
   "file_extension": ".py",
   "mimetype": "text/x-python",
   "name": "python",
   "nbconvert_exporter": "python",
   "pygments_lexer": "ipython3",
   "version": "3.12.2"
  }
 },
 "nbformat": 4,
 "nbformat_minor": 2
}
