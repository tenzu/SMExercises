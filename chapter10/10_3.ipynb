{
 "cells": [
  {
   "cell_type": "markdown",
   "metadata": {},
   "source": [
    "# 10.3题求解过程"
   ]
  },
  {
   "cell_type": "code",
   "execution_count": null,
   "metadata": {},
   "outputs": [],
   "source": [
    "import chapter_10_module as c10m\n",
    "import sympy as sp\n",
    "\n",
    "x = sp.Symbol(\"x\")\n",
    "a1 = sp.Symbol(\"a1\")\n",
    "l = sp.Symbol(\"l\", positive=True)\n",
    "v = a1 * sp.sin(sp.pi * x / l)\n",
    "# v = a1 * x * (l - x)\n",
    "E = sp.Symbol(\"E\", positive=True)\n",
    "I0 = sp.Symbol(\"I0\", positive=True)\n",
    "T = sp.Symbol(\"T\", positive=True)  # 本章默认杆件轴向压力为正\n",
    "# x = 0时 I1 = 0.4*I0, x = 0.2*l 时 I1 = I0\n",
    "I1 = (3 * I0 / l) * x + 0.4 * I0\n",
    "I2 = I0\n",
    "# x = 0.8*l 时 I3 = I0, x = 1.0*l 时 I3 减少到 0.4 * I0\n",
    "I3 = (-3 * I0 / l) * x + 3.4 * I0"
   ]
  },
  {
   "cell_type": "markdown",
   "metadata": {},
   "source": [
    "1. 计算杆件弯曲应变能\n",
    "$$ V_1 = \\frac{1}{2} \\int_0^{0.2l} E I_1 v''(x)^2dx, \\quad V_2 = \\frac{1}{2} \\int_{0.2l}^{0.8l} E I_2 v''(x)^2 dx, \\quad V_3 = \\frac{1}{2} \\int_{0.8l}^{1.0l} E I_1 v''(x)^2dx, \\quad V = V_1 + V_2 + V_3$$\n",
    "$$ 或者 $$\n",
    "$$ V_1  = V_3 = \\frac{1}{2} \\int_0^{0.2l} E I_1 v''(x)^2dx, \\quad V_2 = \\frac{1}{2} \\int_{0.2l}^{0.8l} E I_2 v''(x)^2 dx, \\quad V = 2V_1 + V_2 $$"
   ]
  },
  {
   "cell_type": "code",
   "execution_count": null,
   "metadata": {},
   "outputs": [],
   "source": [
    "V1 = c10m.beamBendingEnergy(v, I1, 0, 0.2 * l, E)\n",
    "V2 = c10m.beamBendingEnergy(v, I2, 0.2 * l, 0.8 * l, E)\n",
    "V3 = c10m.beamBendingEnergy(v, I3, 0.8 * l, 1.0 * l, E)\n",
    "V = V1 + V2 + V3\n",
    "print(f\"杆件弯曲应变能 V 为 {V}\")"
   ]
  },
  {
   "cell_type": "markdown",
   "metadata": {},
   "source": [
    "2. 计算杆件力函数\n",
    "$$ U = \\frac{1}{2} \\int_0^l T v'(x)^2 dx = \\frac{a_1^2 \\pi^2}{4 l} T $$"
   ]
  },
  {
   "cell_type": "code",
   "execution_count": null,
   "metadata": {},
   "outputs": [],
   "source": [
    "U = 1 / 2 * sp.integrate(T * sp.diff(v, x) ** 2, (x, 0, l))\n",
    "print(f\"杆件力函数 U 为 {U}\")"
   ]
  },
  {
   "cell_type": "markdown",
   "metadata": {},
   "source": [
    "3. 令总位能对系数的一阶偏导等于零，求出杆件欧拉力\n",
    "$$ \\Pi = V - U, \\quad \\frac{\\partial \\Pi}{\\partial a_1} = 0 $$"
   ]
  },
  {
   "cell_type": "code",
   "execution_count": null,
   "metadata": {},
   "outputs": [],
   "source": [
    "PI = V - U\n",
    "equation = sp.Eq(sp.diff(PI, a1), 0)\n",
    "T = sp.solve(equation, T)\n",
    "print(f\"杆件欧拉力 T 为 {T}\")"
   ]
  },
  {
   "cell_type": "markdown",
   "metadata": {},
   "source": [
    "# 求解完毕！"
   ]
  }
 ],
 "metadata": {
  "kernelspec": {
   "display_name": "base",
   "language": "python",
   "name": "python3"
  },
  "language_info": {
   "codemirror_mode": {
    "name": "ipython",
    "version": 3
   },
   "file_extension": ".py",
   "mimetype": "text/x-python",
   "name": "python",
   "nbconvert_exporter": "python",
   "pygments_lexer": "ipython3",
   "version": "3.12.9"
  }
 },
 "nbformat": 4,
 "nbformat_minor": 2
}
