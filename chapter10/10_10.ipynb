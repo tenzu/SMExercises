{
 "cells": [
  {
   "cell_type": "markdown",
   "metadata": {},
   "source": [
    "# 10.10题求解过程\n",
    "$$ \\sigma_{cr} = \\sigma_{y} = \\frac{4 \\pi^4 D}{b^2 t} = \\frac{4 \\pi^4 E t^2}{12 b^2 (1-\\mu^2)} \\Longrightarrow t = \\sqrt{\\frac{12 \\sigma_y b^2 (1-\\mu^2)}{4 \\pi^4 E}}$$"
   ]
  },
  {
   "cell_type": "code",
   "execution_count": null,
   "metadata": {},
   "outputs": [],
   "source": [
    "import chapter_10_module as c10m\n",
    "import sympy as sp\n",
    "\n",
    "a = 1.2\n",
    "b = 0.7\n",
    "t = sp.symbols(\"t\", positive=True)\n",
    "sigma_y = 240 * 1e6 # Pa\n",
    "print(f\"因为 a/b > 1，所以根据图10-30取 k = 4\")\n",
    "# 令 sigma_cr = sigma_y\n",
    "eq = sp.Eq(4 * sp.pi**2 * c10m.cylindricalStiffness(t) / (b**2 * t), sigma_y)\n",
    "sol = sp.solve(eq, t)\n",
    "print(f\"求解得到 t = {sol[0]*1e3:.2f} mm\")"
   ]
  },
  {
   "cell_type": "markdown",
   "metadata": {},
   "source": [
    "# 求解完毕！"
   ]
  }
 ],
 "metadata": {
  "kernelspec": {
   "display_name": "base",
   "language": "python",
   "name": "python3"
  },
  "language_info": {
   "codemirror_mode": {
    "name": "ipython",
    "version": 3
   },
   "file_extension": ".py",
   "mimetype": "text/x-python",
   "name": "python",
   "nbconvert_exporter": "python",
   "pygments_lexer": "ipython3",
   "version": "3.12.9"
  }
 },
 "nbformat": 4,
 "nbformat_minor": 2
}
