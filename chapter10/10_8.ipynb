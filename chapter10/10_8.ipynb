{
 "cells": [
  {
   "cell_type": "markdown",
   "metadata": {},
   "source": [
    "# 10.8题求解过程"
   ]
  },
  {
   "cell_type": "code",
   "execution_count": null,
   "metadata": {},
   "outputs": [],
   "source": [
    "import chapter_10_module as c10m\n",
    "import sympy as sp\n",
    "\n",
    "L = 12.5\n",
    "B = 5\n",
    "l = 2.5\n",
    "b = 0.5\n",
    "I = 5000 * 1e-8\n",
    "i = 1250 * 1e-8\n",
    "A = 64.05 * 1e-4\n",
    "sigma_y = 240  # MPa\n",
    "E = 2.1e11  # Pa"
   ]
  },
  {
   "cell_type": "markdown",
   "metadata": {},
   "source": [
    "1. 计算 miu 的值"
   ]
  },
  {
   "cell_type": "code",
   "execution_count": null,
   "metadata": {},
   "outputs": [],
   "source": [
    "v1 = 0\n",
    "print(f\"自由支持端：v1 = {v1}\")\n",
    "alpha = 0.5 * B / (E * I)\n",
    "v2 = 1 / (1 + (2 * alpha * E * I) / B)\n",
    "print(f\"弹性固定端：v2 = {v2}\")\n",
    "mu = 3.36\n",
    "print(f\"查图可知：mu = {mu}\")"
   ]
  },
  {
   "cell_type": "markdown",
   "metadata": {},
   "source": [
    "2. 计算横梁刚度系数 K\n",
    "$$ K = \\mu^4 \\frac{E I b}{B^4} $$"
   ]
  },
  {
   "cell_type": "code",
   "execution_count": null,
   "metadata": {},
   "outputs": [],
   "source": [
    "K = mu**4 * E * I * b / B**4\n",
    "print(f\"横梁刚度系数K为 {K:.2f} N/m\")"
   ]
  },
  {
   "cell_type": "markdown",
   "metadata": {},
   "source": [
    "3. 计算单跨梁欧拉应力\n",
    "$$ \\sigma_0 = \\frac{\\pi^2 E i}{A l^2} $$"
   ]
  },
  {
   "cell_type": "code",
   "execution_count": null,
   "metadata": {},
   "outputs": [],
   "source": [
    "sigma_0 = c10m.eularForceSingleBeam(i, l, E) / A * 1e-6\n",
    "print(f\"对应的单跨梁欧拉应力sigma_0为 {sigma_0:.2f} MPa\")"
   ]
  },
  {
   "cell_type": "markdown",
   "metadata": {},
   "source": [
    "4. 根据连续梁跨数查附录 G 得到 Xj_max 的值，并计算 K_cr 的值\n",
    "$$ K_{cr} = \\frac{\\pi^4 E i}{l^3}X_{j,max} $$"
   ]
  },
  {
   "cell_type": "code",
   "execution_count": null,
   "metadata": {},
   "outputs": [],
   "source": [
    "n = L / l\n",
    "print(f\"连续梁跨数 n 为 {n}\")\n",
    "Xj_max = 0.364\n",
    "print(f\"n = 5时，临界刚度对应的 Xj_max 为 {Xj_max:.3f}\")\n",
    "K_cr = c10m.K_cr(1.0, Xj_max, i, l, E)\n",
    "print(f\"临界刚度 K_cr 为 {K_cr:.2f} N/m\")\n",
    "print(f\"此处可知 K < K_cr\")"
   ]
  },
  {
   "cell_type": "markdown",
   "metadata": {},
   "source": [
    "5. 套公式计算 Xj 值，并校验欧拉应力\n",
    "$$ X_j = I \\left( \\frac{\\mu}{\\pi} \\right)^4 \\left( \\frac{l}{B} \\right)^3 \\frac{b}{B} \\frac{1}{i}, \\quad \\sigma_E = \\lambda \\sigma_0 $$"
   ]
  },
  {
   "cell_type": "code",
   "execution_count": null,
   "metadata": {},
   "outputs": [],
   "source": [
    "Xj = I*(mu/sp.pi)**4*(l/B)**3*b/B*1/i\n",
    "print(f\"Xj = {Xj:.3f}\")\n",
    "lamda = 0.540\n",
    "print(f\"根据Xj查图可知 lambda = {lamda}\")\n",
    "sigma_E = lamda * sigma_0\n",
    "print(f\"根据 lambda 计算 sigma_E = {sigma_E:.2f} MPa\")\n",
    "print(f\"因为 sigma_E > sigma_y，所以需要进行非弹性修正\")"
   ]
  },
  {
   "cell_type": "markdown",
   "metadata": {},
   "source": [
    "6. 将欧拉应力修正为临界应力\n",
    "$$ \\varphi X_j(\\lambda) = I \\left( \\frac{\\mu}{\\pi} \\right)^4 \\left( \\frac{l}{B} \\right)^3 \\frac{b}{B} \\frac{1}{i} $$"
   ]
  },
  {
   "cell_type": "code",
   "execution_count": null,
   "metadata": {},
   "outputs": [],
   "source": [
    "phai_Xj = I*(mu/sp.pi)**4*(l/B)**3*b/B/i\n",
    "print(f\"phai*Xj = {phai_Xj:.3f}\")\n",
    "print(f\"根据附录F的表格插值得到：sigma_cr = 212 MPa\")"
   ]
  },
  {
   "cell_type": "markdown",
   "metadata": {},
   "source": [
    "# 求解完毕！"
   ]
  }
 ],
 "metadata": {
  "kernelspec": {
   "display_name": "base",
   "language": "python",
   "name": "python3"
  },
  "language_info": {
   "codemirror_mode": {
    "name": "ipython",
    "version": 3
   },
   "file_extension": ".py",
   "mimetype": "text/x-python",
   "name": "python",
   "nbconvert_exporter": "python",
   "pygments_lexer": "ipython3",
   "version": "3.12.9"
  }
 },
 "nbformat": 4,
 "nbformat_minor": 2
}
