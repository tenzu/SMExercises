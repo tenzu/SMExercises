{
 "cells": [
  {
   "cell_type": "markdown",
   "metadata": {},
   "source": [
    "# 10.5题求解过程"
   ]
  },
  {
   "cell_type": "code",
   "execution_count": null,
   "metadata": {},
   "outputs": [],
   "source": [
    "import chapter_10_module as c10m\n",
    "import sympy as sp\n",
    "\n",
    "x = sp.Symbol(\"x\")\n",
    "a1 = sp.Symbol(\"a1\")\n",
    "l0 = sp.Symbol(\"l0\", positive=True)  # 令l2的长度为l0\n",
    "v = a1 * x * (l0 - x)\n",
    "E = sp.Symbol(\"E\", positive=True)\n",
    "I0 = sp.Symbol(\"I0\", positive=True)\n",
    "T = sp.Symbol(\"T\", positive=True)  # 本章默认杆件轴向压力为正\n",
    "I1 = 8 * I0\n",
    "I2 = I0\n",
    "l1 = 2 * l0\n",
    "l2 = l0"
   ]
  },
  {
   "cell_type": "markdown",
   "metadata": {},
   "source": [
    "1. 计算杆件应变能\n",
    "$$ V_1 = \\frac{1}{2} \\int_0^{2 l_2} E I_1 v''(x)^2 dx, \\quad V_2 = \\frac{1}{2} \\int_{2 l_2}^{3 l_2} E I_2 v''(x)^2 dx, \\quad V = V_1 + V_2 $$"
   ]
  },
  {
   "cell_type": "code",
   "execution_count": null,
   "metadata": {},
   "outputs": [],
   "source": [
    "V1 = c10m.beamBendingEnergy(v, I1, 0, l1, E)\n",
    "V2 = c10m.beamBendingEnergy(v, I2, l1, l1 + l2, E)\n",
    "V = V1 + V2\n",
    "print(f\"应变能 V 为 {V}\")"
   ]
  },
  {
   "cell_type": "markdown",
   "metadata": {},
   "source": [
    "2. 计算杆件力函数\n",
    "$$ U = \\frac{1}{2} \\int_0^{3 l_2} T v'(x)^2 dx $$"
   ]
  },
  {
   "cell_type": "code",
   "execution_count": null,
   "metadata": {},
   "outputs": [],
   "source": [
    "U = 1 / 2 * sp.integrate(T * sp.diff(v, x) ** 2, (x, 0, l1 + l2))\n",
    "print(f\"杆件力函数 U 为 {U}\")"
   ]
  },
  {
   "cell_type": "markdown",
   "metadata": {},
   "source": [
    "3. 令总位能对系数的一阶偏导等于零，求出杆件欧拉力\n",
    "$$ \\frac{\\partial (V - U)}{\\partial a_1} = 0 $$"
   ]
  },
  {
   "cell_type": "code",
   "execution_count": null,
   "metadata": {},
   "outputs": [],
   "source": [
    "PI = V - U\n",
    "equation = sp.Eq(sp.diff(PI, a1), 0)\n",
    "T = sp.solve(equation, T)\n",
    "print(f\"杆件欧拉力 T 为 {T} N\") # 68/21*E*I/l0**2"
   ]
  },
  {
   "cell_type": "markdown",
   "metadata": {},
   "source": [
    "# 求解完毕！"
   ]
  }
 ],
 "metadata": {
  "kernelspec": {
   "display_name": "base",
   "language": "python",
   "name": "python3"
  },
  "language_info": {
   "codemirror_mode": {
    "name": "ipython",
    "version": 3
   },
   "file_extension": ".py",
   "mimetype": "text/x-python",
   "name": "python",
   "nbconvert_exporter": "python",
   "pygments_lexer": "ipython3",
   "version": "3.12.9"
  }
 },
 "nbformat": 4,
 "nbformat_minor": 2
}
